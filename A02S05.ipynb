{
 "cells": [
  {
   "cell_type": "code",
   "execution_count": 31,
   "metadata": {},
   "outputs": [],
   "source": [
    "import pandas as pd\n",
    "import numpy as np"
   ]
  },
  {
   "cell_type": "markdown",
   "metadata": {},
   "source": [
    "# Aula 04 - Slide 05 - Distribuição de Frequências"
   ]
  },
  {
   "cell_type": "code",
   "execution_count": 32,
   "metadata": {},
   "outputs": [],
   "source": [
    "classes = np.array(\n",
    "    [\n",
    "        (0, 10),\n",
    "        (10, 20),\n",
    "        (20, 30),\n",
    "        (30, 40),\n",
    "        (40, 50),\n",
    "        (50, 60),\n",
    "        (60, 70),\n",
    "    ]\n",
    ")"
   ]
  },
  {
   "cell_type": "code",
   "execution_count": 33,
   "metadata": {},
   "outputs": [],
   "source": [
    "frequencia  = np.array(\n",
    "    [6, 10, 13, 8, 5, 6, 2]\n",
    ")"
   ]
  },
  {
   "cell_type": "code",
   "execution_count": 34,
   "metadata": {},
   "outputs": [],
   "source": [
    "frequencia_relativa = np.array(\n",
    "    [round(i/sum(frequencia)*100, 2) for i in frequencia]\n",
    ")"
   ]
  },
  {
   "cell_type": "code",
   "execution_count": 35,
   "metadata": {},
   "outputs": [],
   "source": [
    "classe_ponto_medio = np.array(\n",
    "    [(x+y)/2 for x, y in classes]\n",
    ")"
   ]
  },
  {
   "cell_type": "code",
   "execution_count": 42,
   "metadata": {},
   "outputs": [],
   "source": [
    "frequencia_acumulada = []\n",
    "\n",
    "for i in range(0, len(frequencia)):\n",
    "    frequencia_acumulada.append(sum(frequencia[0: i+1]))"
   ]
  },
  {
   "cell_type": "markdown",
   "metadata": {},
   "source": [
    "* Criando a tabela de frequências com classes, frequências, frequências relativas, media da classes e frequências acumuladas"
   ]
  },
  {
   "cell_type": "code",
   "execution_count": 46,
   "metadata": {},
   "outputs": [
    {
     "data": {
      "text/html": [
       "<div>\n",
       "<style scoped>\n",
       "    .dataframe tbody tr th:only-of-type {\n",
       "        vertical-align: middle;\n",
       "    }\n",
       "\n",
       "    .dataframe tbody tr th {\n",
       "        vertical-align: top;\n",
       "    }\n",
       "\n",
       "    .dataframe thead th {\n",
       "        text-align: right;\n",
       "    }\n",
       "</style>\n",
       "<table border=\"1\" class=\"dataframe\">\n",
       "  <thead>\n",
       "    <tr style=\"text-align: right;\">\n",
       "      <th></th>\n",
       "      <th>Custo Sinistros (em R$1.000,00)</th>\n",
       "      <th>Fi</th>\n",
       "      <th>fi%</th>\n",
       "      <th>Xi</th>\n",
       "      <th>Fac</th>\n",
       "    </tr>\n",
       "  </thead>\n",
       "  <tbody>\n",
       "    <tr>\n",
       "      <th>0</th>\n",
       "      <td>0 |- 10</td>\n",
       "      <td>6</td>\n",
       "      <td>12.0</td>\n",
       "      <td>5.0</td>\n",
       "      <td>6</td>\n",
       "    </tr>\n",
       "    <tr>\n",
       "      <th>1</th>\n",
       "      <td>10 |- 20</td>\n",
       "      <td>10</td>\n",
       "      <td>20.0</td>\n",
       "      <td>15.0</td>\n",
       "      <td>16</td>\n",
       "    </tr>\n",
       "    <tr>\n",
       "      <th>2</th>\n",
       "      <td>20 |- 30</td>\n",
       "      <td>13</td>\n",
       "      <td>26.0</td>\n",
       "      <td>25.0</td>\n",
       "      <td>29</td>\n",
       "    </tr>\n",
       "    <tr>\n",
       "      <th>3</th>\n",
       "      <td>30 |- 40</td>\n",
       "      <td>8</td>\n",
       "      <td>16.0</td>\n",
       "      <td>35.0</td>\n",
       "      <td>37</td>\n",
       "    </tr>\n",
       "    <tr>\n",
       "      <th>4</th>\n",
       "      <td>40 |- 50</td>\n",
       "      <td>5</td>\n",
       "      <td>10.0</td>\n",
       "      <td>45.0</td>\n",
       "      <td>42</td>\n",
       "    </tr>\n",
       "    <tr>\n",
       "      <th>5</th>\n",
       "      <td>50 |- 60</td>\n",
       "      <td>6</td>\n",
       "      <td>12.0</td>\n",
       "      <td>55.0</td>\n",
       "      <td>48</td>\n",
       "    </tr>\n",
       "    <tr>\n",
       "      <th>6</th>\n",
       "      <td>60 |- 70</td>\n",
       "      <td>2</td>\n",
       "      <td>4.0</td>\n",
       "      <td>65.0</td>\n",
       "      <td>50</td>\n",
       "    </tr>\n",
       "  </tbody>\n",
       "</table>\n",
       "</div>"
      ],
      "text/plain": [
       "  Custo Sinistros (em R$1.000,00)  Fi   fi%    Xi  Fac\n",
       "0                         0 |- 10   6  12.0   5.0    6\n",
       "1                        10 |- 20  10  20.0  15.0   16\n",
       "2                        20 |- 30  13  26.0  25.0   29\n",
       "3                        30 |- 40   8  16.0  35.0   37\n",
       "4                        40 |- 50   5  10.0  45.0   42\n",
       "5                        50 |- 60   6  12.0  55.0   48\n",
       "6                        60 |- 70   2   4.0  65.0   50"
      ]
     },
     "execution_count": 46,
     "metadata": {},
     "output_type": "execute_result"
    }
   ],
   "source": [
    "custo_sinistros = pd.DataFrame(\n",
    "    {\n",
    "        'Custo Sinistros (em R$1.000,00)': [f'{x} |- {y}' for x, y in classes],\n",
    "        'Fi': frequencia,\n",
    "        'fi%': frequencia_relativa,\n",
    "        'Xi': classe_ponto_medio,\n",
    "        'Fac': frequencia_acumulada\n",
    "    }\n",
    ")\n",
    "\n",
    "custo_sinistros"
   ]
  }
 ],
 "metadata": {
  "kernelspec": {
   "display_name": "venv",
   "language": "python",
   "name": "python3"
  },
  "language_info": {
   "codemirror_mode": {
    "name": "ipython",
    "version": 3
   },
   "file_extension": ".py",
   "mimetype": "text/x-python",
   "name": "python",
   "nbconvert_exporter": "python",
   "pygments_lexer": "ipython3",
   "version": "3.12.6"
  }
 },
 "nbformat": 4,
 "nbformat_minor": 2
}
