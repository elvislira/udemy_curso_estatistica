{
 "cells": [
  {
   "cell_type": "code",
   "execution_count": 1,
   "metadata": {},
   "outputs": [],
   "source": [
    "import numpy as np"
   ]
  },
  {
   "cell_type": "markdown",
   "metadata": {},
   "source": [
    "# Aula 07"
   ]
  },
  {
   "cell_type": "markdown",
   "metadata": {},
   "source": [
    "* Média Aritmética"
   ]
  },
  {
   "cell_type": "code",
   "execution_count": 3,
   "metadata": {},
   "outputs": [],
   "source": [
    "def soma(*args: float) -> float:\n",
    "    total = 0\n",
    "    \n",
    "    for valor in args:\n",
    "        total += valor\n",
    "    \n",
    "    return total"
   ]
  },
  {
   "cell_type": "code",
   "execution_count": 4,
   "metadata": {},
   "outputs": [
    {
     "name": "stdout",
     "output_type": "stream",
     "text": [
      "7.5\n"
     ]
    }
   ],
   "source": [
    "def media_aritmetica(*args: float) -> float:\n",
    "    return soma(*args) / len(args)"
   ]
  },
  {
   "cell_type": "markdown",
   "metadata": {},
   "source": [
    "* Média Ponderada"
   ]
  },
  {
   "cell_type": "code",
   "execution_count": 16,
   "metadata": {},
   "outputs": [],
   "source": [
    "def media_ponderada(valores: np.array, pesos: np.array) -> float:\n",
    "    if len(valores) != len(pesos):\n",
    "        return None\n",
    "    \n",
    "    return soma(*(valores*pesos)) / len(pesos)"
   ]
  },
  {
   "cell_type": "markdown",
   "metadata": {},
   "source": [
    "* Mediana"
   ]
  },
  {
   "cell_type": "code",
   "execution_count": 19,
   "metadata": {},
   "outputs": [],
   "source": [
    "def eh_par(valor: int) -> bool:\n",
    "    return valor%2 == 0"
   ]
  },
  {
   "cell_type": "code",
   "execution_count": 32,
   "metadata": {},
   "outputs": [],
   "source": [
    "def mediana(valores: np.array) -> float:\n",
    "    numeros = sorted(valores)\n",
    "    \n",
    "    qtd_numeros = len(numeros)\n",
    "    \n",
    "    if eh_par(qtd_numeros):\n",
    "        indice1 = int((qtd_numeros / 2) - 1)\n",
    "        indice2 = int(indice1 + 1)\n",
    "        \n",
    "        return media_aritmetica(\n",
    "            numeros[indice1], \n",
    "            numeros[indice2]\n",
    "        )\n",
    "    \n",
    "    indice = int((qtd_numeros+1)/2 - 1)\n",
    "    \n",
    "    return numeros[indice]"
   ]
  },
  {
   "cell_type": "markdown",
   "metadata": {},
   "source": [
    "## Exemplo"
   ]
  },
  {
   "cell_type": "code",
   "execution_count": 37,
   "metadata": {},
   "outputs": [
    {
     "name": "stdout",
     "output_type": "stream",
     "text": [
      "86000.0\n",
      "84750.0\n"
     ]
    }
   ],
   "source": [
    "lucro_mensal = np.array(\n",
    "    [58000, 112000, 69000, 78000, 85000, 44000, 87000, 94000, 95000, 99000, 112000, 84000]\n",
    ")\n",
    "\n",
    "print(mediana(lucro_mensal))\n",
    "print(media_aritmetica(*lucro_mensal))"
   ]
  }
 ],
 "metadata": {
  "kernelspec": {
   "display_name": "venv",
   "language": "python",
   "name": "python3"
  },
  "language_info": {
   "codemirror_mode": {
    "name": "ipython",
    "version": 3
   },
   "file_extension": ".py",
   "mimetype": "text/x-python",
   "name": "python",
   "nbconvert_exporter": "python",
   "pygments_lexer": "ipython3",
   "version": "3.12.6"
  }
 },
 "nbformat": 4,
 "nbformat_minor": 2
}
