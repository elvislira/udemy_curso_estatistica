{
 "cells": [
  {
   "cell_type": "code",
   "execution_count": 2,
   "metadata": {},
   "outputs": [],
   "source": [
    "import numpy as np"
   ]
  },
  {
   "cell_type": "markdown",
   "metadata": {},
   "source": [
    "# Medidas Separatrizes"
   ]
  },
  {
   "cell_type": "code",
   "execution_count": 43,
   "metadata": {},
   "outputs": [],
   "source": [
    "def separatriz(elementos: np.array, percentil: int) -> float:\n",
    "    indice_decimal = ((len(elementos) + 1) * (percentil / 100.0)) - 1\n",
    "    indice = int(indice_decimal)\n",
    "    \n",
    "    if indice == (len(elementos) - 1):\n",
    "        indice -= 1\n",
    "        \n",
    "    elemento1 = elementos[indice]\n",
    "    elemento2 = elementos[indice + 1]\n",
    "    p = elemento1 + (indice_decimal - indice) * (elemento2 - elemento1)\n",
    "    \n",
    "    return round(p, 2)"
   ]
  },
  {
   "cell_type": "markdown",
   "metadata": {},
   "source": [
    "* Percentil"
   ]
  },
  {
   "cell_type": "code",
   "execution_count": 45,
   "metadata": {},
   "outputs": [],
   "source": [
    "def percentil(elementos: np.array) -> list:\n",
    "    percentis = []\n",
    "    \n",
    "    for i in range(1, 100):\n",
    "        percentis.append(\n",
    "            (i/100, separatriz(elementos, i))\n",
    "        )\n",
    "        \n",
    "    return percentis"
   ]
  },
  {
   "cell_type": "markdown",
   "metadata": {},
   "source": [
    "* Decil"
   ]
  },
  {
   "cell_type": "code",
   "execution_count": 49,
   "metadata": {},
   "outputs": [],
   "source": [
    "def decil(elementos: np.array) -> list:\n",
    "    decis = []\n",
    "    \n",
    "    for i in range(10, 100, 10):\n",
    "        decis.append(\n",
    "            (i/100, separatriz(elementos, i))\n",
    "        )\n",
    "        \n",
    "    return decis"
   ]
  },
  {
   "cell_type": "markdown",
   "metadata": {},
   "source": [
    "* Quartil"
   ]
  },
  {
   "cell_type": "code",
   "execution_count": null,
   "metadata": {},
   "outputs": [],
   "source": [
    "def quartil(elementos: np.array) -> list:\n",
    "    quartis = []\n",
    "    \n",
    "    for i in [25, 50, 75]:\n",
    "        quartis.append(\n",
    "            (i/100, separatriz(elementos, i))\n",
    "        )\n",
    "        \n",
    "    return quartis"
   ]
  },
  {
   "cell_type": "code",
   "execution_count": 50,
   "metadata": {},
   "outputs": [
    {
     "data": {
      "text/plain": [
       "[(0.1, np.float64(64.1)),\n",
       " (0.2, np.float64(78.4)),\n",
       " (0.3, np.float64(98.8)),\n",
       " (0.4, np.float64(109.2)),\n",
       " (0.5, np.float64(120.5)),\n",
       " (0.6, np.float64(137.6)),\n",
       " (0.7, np.float64(157.1)),\n",
       " (0.8, np.float64(195.4)),\n",
       " (0.9, np.float64(206.4))]"
      ]
     },
     "execution_count": 50,
     "metadata": {},
     "output_type": "execute_result"
    }
   ],
   "source": [
    "faturamento_mensal = np.array(\n",
    "    [62, 65, 76, 82, 98, 106, 110, 119, 122, 137, 140, 159, 193, 197, 201, 219]\n",
    ")\n",
    "\n",
    "decil(faturamento_mensal)"
   ]
  }
 ],
 "metadata": {
  "kernelspec": {
   "display_name": "venv",
   "language": "python",
   "name": "python3"
  },
  "language_info": {
   "codemirror_mode": {
    "name": "ipython",
    "version": 3
   },
   "file_extension": ".py",
   "mimetype": "text/x-python",
   "name": "python",
   "nbconvert_exporter": "python",
   "pygments_lexer": "ipython3",
   "version": "3.12.6"
  }
 },
 "nbformat": 4,
 "nbformat_minor": 2
}
